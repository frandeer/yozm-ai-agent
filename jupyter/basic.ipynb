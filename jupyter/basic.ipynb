{
 "cells": [
  {
   "cell_type": "code",
   "execution_count": null,
   "id": "8ae65ca0",
   "metadata": {
    "vscode": {
     "languageId": "plaintext"
    }
   },
   "outputs": [],
   "source": [
    "import os\n",
    "import sys\n",
    "import json\n",
    "\n",
    "# 현재 노트북 파일의 상위 디렉토리 (프로젝트 루트)를 sys.path에 추가\n",
    "sys.path.append(os.path.abspath(os.path.join(os.getcwd(), '..')))\n",
    "\n",
    "# Langchain\n",
    "from typing import Annotated, TypedDict, List, Dict\n",
    "from langchain_core.messages import AIMessage, HumanMessage, ToolMessage\n",
    "from langchain_core.tools import tool\n",
    "from langchain_openai import ChatOpenAI\n",
    "\n",
    "# Langgraph\n",
    "from langgraph.graph import add_messages\n",
    "from langgraph.graph import MessagesState, StateGraph, START, END\n",
    "from langgraph.checkpoint.memory import MemorySaver\n",
    "from langgraph.prebuilt import ToolNode, tools_condition\n",
    "\n",
    "# Utils\n",
    "from utils.get_key import get_env_variable\n",
    "from utils.logging import langsmith\n",
    "from utils.graphs import visualize_graph, generate_random_hash\n",
    "from utils.messages  import display_message_tree, pretty_print_messages\n",
    "\n",
    "# Tools\n",
    "from tools.tavily import TavilySearch\n",
    "from tools.news import GoogleNews\n",
    "from tools.async_tavily import create_async_tavily\n",
    "\n",
    "# Etc\n",
    "from pydantic import BaseModel\n",
    "\n",
    "# langsmith 설정\n",
    "\n",
    "langsmith(\"langgraph-ex17\")\n",
    "\n",
    "# openai api key 설정\n",
    "openai_api_key = get_env_variable(\"OPENAI_API_KEY\")\n",
    "llm = ChatOpenAI(model=\"gpt-4o-mini\", temperature=0)"
   ]
  },
  {
   "cell_type": "code",
   "execution_count": null,
   "id": "44229f4f",
   "metadata": {
    "vscode": {
     "languageId": "plaintext"
    }
   },
   "outputs": [],
   "source": []
  },
  {
   "cell_type": "code",
   "execution_count": null,
   "id": "02f4d42e",
   "metadata": {
    "vscode": {
     "languageId": "plaintext"
    }
   },
   "outputs": [],
   "source": []
  }
 ],
 "metadata": {
  "language_info": {
   "name": "python"
  }
 },
 "nbformat": 4,
 "nbformat_minor": 5
}
